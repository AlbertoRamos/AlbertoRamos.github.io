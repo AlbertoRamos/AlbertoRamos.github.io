{
 "cells": [
  {
   "cell_type": "code",
   "execution_count": 3,
   "metadata": {
    "collapsed": false
   },
   "outputs": [
    {
     "data": {
      "text/plain": [
       "gradient_method (generic function with 1 method)"
      ]
     },
     "execution_count": 3,
     "metadata": {},
     "output_type": "execute_result"
    }
   ],
   "source": [
    "function gradient_method(f, ∇f, x0; tol = 1e-5, max_iter = 1000, max_time = 60)\n",
    "    exit_flag = 0\n",
    "    \n",
    "    x = copy(x0) # Cópia de x0\n",
    "    iter = 0\n",
    "    start_time = time()\n",
    "    elapsed_time = 0.0\n",
    "    fx = f(x)\n",
    "    ∇fx = ∇f(x)\n",
    "    while norm(∇fx) > tol\n",
    "        d = -∇fx\n",
    "        ∇fx_dot_d = dot(∇fx, d)\n",
    "        t = 1.0\n",
    "        while f(x + t*d) > fx + 0.5*t*∇fx_dot_d\n",
    "            t = t*0.9\n",
    "        end\n",
    "        x = x + t*d\n",
    "        fx = f(x)\n",
    "        ∇fx = ∇f(x)\n",
    "        iter = iter + 1\n",
    "        if iter >= max_iter\n",
    "            exit_flag = 1\n",
    "            break\n",
    "        end\n",
    "        elapsed_time = time() - start_time\n",
    "        if elapsed_time >= max_time\n",
    "            exit_flag = 2\n",
    "            break\n",
    "        end\n",
    "    end\n",
    "    return x, fx, ∇fx, exit_flag, iter, elapsed_time # Precisamos retornar o ponto encontrado\n",
    "end"
   ]
  },
  {
   "cell_type": "code",
   "execution_count": 1,
   "metadata": {
    "collapsed": false
   },
   "outputs": [
    {
     "data": {
      "text/plain": [
       "newton_method (generic function with 1 method)"
      ]
     },
     "execution_count": 1,
     "metadata": {},
     "output_type": "execute_result"
    }
   ],
   "source": [
    "function newton_method(f, ∇f, H, x0; tol = 1e-5, max_iter = 1000, max_time = 60)\n",
    "    exit_flag = 0\n",
    "    \n",
    "    x = copy(x0) # Cópia de x0\n",
    "    iter = 0\n",
    "    start_time = time()\n",
    "    elapsed_time = 0.0\n",
    "    fx = f(x)\n",
    "    ∇fx = ∇f(x)\n",
    "    B = H(x)\n",
    "    while norm(∇fx) > tol\n",
    "        d = -B\\∇fx\n",
    "        ∇fx_dot_d = dot(∇fx, d)\n",
    "        t = 1.0\n",
    "        while f(x + t*d) > fx + 0.5*t*∇fx_dot_d\n",
    "            t = t*0.9\n",
    "        end\n",
    "        x = x + t*d\n",
    "        fx = f(x)\n",
    "        ∇fx = ∇f(x)\n",
    "        B = H(x)\n",
    "        iter = iter + 1\n",
    "        if iter >= max_iter\n",
    "            exit_flag = 1\n",
    "            break\n",
    "        end\n",
    "        elapsed_time = time() - start_time\n",
    "        if elapsed_time >= max_time\n",
    "            exit_flag = 2\n",
    "            break\n",
    "        end\n",
    "    end\n",
    "    return x, fx, ∇fx, exit_flag, iter, elapsed_time # Precisamos retornar o ponto encontrado\n",
    "end"
   ]
  },
  {
   "cell_type": "code",
   "execution_count": 2,
   "metadata": {
    "collapsed": false
   },
   "outputs": [
    {
     "data": {
      "text/plain": [
       "Plots.GRBackend()"
      ]
     },
     "execution_count": 2,
     "metadata": {},
     "output_type": "execute_result"
    }
   ],
   "source": [
    "using Plots\n",
    "gr()"
   ]
  },
  {
   "cell_type": "code",
   "execution_count": 7,
   "metadata": {
    "collapsed": false
   },
   "outputs": [
    {
     "name": "stdout",
     "output_type": "stream",
     "text": [
      "exit_flag = 0\n",
      "iter = 200\n",
      "el_time = 1.1184461116790771\n",
      "exit_flag = 0\n",
      "iter = 1\n",
      "el_time = 0.012897014617919922\n"
     ]
    }
   ],
   "source": [
    "n = 1000; (Q,R) = qr(rand(n,n));\n",
    "G = Q*diagm(linspace(1,100,n))*Q'; # Uma matriz nxn com número de condição 100.\n",
    "g = rand(n);\n",
    "f(x) = 0.5*dot(x,G*x) + dot(g,x);\n",
    "∇f(x) = G*x + g;\n",
    "x, fx, ∇fx, exit_flag, iter, el_time = gradient_method(f, ∇f, zeros(n));\n",
    "x, fx, ∇fx, exit_flag, iter, el_time = gradient_method(f, ∇f, zeros(n)); # Rodando duas vezes\n",
    "println(\"exit_flag = $exit_flag\")\n",
    "println(\"iter = $iter\")\n",
    "println(\"el_time = $el_time\")\n",
    "\n",
    "H(x) = G\n",
    "x, fx, ∇fx, exit_flag, iter, el_time = newton_method(f, ∇f, H, zeros(n));\n",
    "x, fx, ∇fx, exit_flag, iter, el_time = newton_method(f, ∇f, H, zeros(n)); # Rodando duas vezes\n",
    "println(\"exit_flag = $exit_flag\")\n",
    "println(\"iter = $iter\")\n",
    "println(\"el_time = $el_time\")"
   ]
  },
  {
   "cell_type": "code",
   "execution_count": 9,
   "metadata": {
    "collapsed": false
   },
   "outputs": [
    {
     "name": "stdout",
     "output_type": "stream",
     "text": [
      "exit_flag = 0\n",
      "iter = 852\n",
      "el_time = 0.0010190010070800781\n",
      "exit_flag = 0\n",
      "iter = 13\n",
      "el_time = 2.09808349609375e-5\n"
     ]
    }
   ],
   "source": [
    "f(x) = x[1]^4 + x[2]^4\n",
    "∇f(x) = [4*x[1]^3; 4*x[2]^3]\n",
    "H(x) = [12*x[1]^2   0.0; 0.0    12*x[2]^2]\n",
    "x0 = [1.0; 2.0]\n",
    "\n",
    "x, fx, ∇fx, exit_flag, iter, el_time = gradient_method(f, ∇f, x0);\n",
    "x, fx, ∇fx, exit_flag, iter, el_time = gradient_method(f, ∇f, x0);\n",
    "println(\"exit_flag = $exit_flag\")\n",
    "println(\"iter = $iter\")\n",
    "println(\"el_time = $el_time\")\n",
    "\n",
    "x, fx, ∇fx, exit_flag, iter, el_time = newton_method(f, ∇f, H, x0);\n",
    "x, fx, ∇fx, exit_flag, iter, el_time = newton_method(f, ∇f, H, x0); # Rodando duas vezes\n",
    "println(\"exit_flag = $exit_flag\")\n",
    "println(\"iter = $iter\")\n",
    "println(\"el_time = $el_time\")"
   ]
  },
  {
   "cell_type": "code",
   "execution_count": 10,
   "metadata": {
    "collapsed": true
   },
   "outputs": [],
   "source": [
    "#Pkg.add(\"ForwardDiff\")\n",
    "using ForwardDiff"
   ]
  },
  {
   "cell_type": "code",
   "execution_count": 12,
   "metadata": {
    "collapsed": false
   },
   "outputs": [
    {
     "data": {
      "text/plain": [
       "2-element Array{Float64,1}:\n",
       " -1.2\n",
       "  1.1"
      ]
     },
     "execution_count": 12,
     "metadata": {},
     "output_type": "execute_result"
    }
   ],
   "source": [
    "f(x) = (x[1] - 1)^2 + 100*(x[2] - x[1]^2)^2 # Rosenbrock\n",
    "x0 = [-1.2; 1.1]"
   ]
  },
  {
   "cell_type": "code",
   "execution_count": 13,
   "metadata": {
    "collapsed": false
   },
   "outputs": [
    {
     "data": {
      "text/plain": [
       "2-element Array{Float64,1}:\n",
       " -167.6\n",
       "  -68.0"
      ]
     },
     "execution_count": 13,
     "metadata": {},
     "output_type": "execute_result"
    }
   ],
   "source": [
    "ForwardDiff.gradient(f, x0)"
   ]
  },
  {
   "cell_type": "code",
   "execution_count": 14,
   "metadata": {
    "collapsed": false
   },
   "outputs": [
    {
     "data": {
      "text/plain": [
       "∇f (generic function with 1 method)"
      ]
     },
     "execution_count": 14,
     "metadata": {},
     "output_type": "execute_result"
    }
   ],
   "source": [
    "∇f(x) = ForwardDiff.gradient(f, x)"
   ]
  },
  {
   "cell_type": "code",
   "execution_count": 15,
   "metadata": {
    "collapsed": false
   },
   "outputs": [
    {
     "data": {
      "text/plain": [
       "2-element Array{Float64,1}:\n",
       " -167.6\n",
       "  -68.0"
      ]
     },
     "execution_count": 15,
     "metadata": {},
     "output_type": "execute_result"
    }
   ],
   "source": [
    "∇f(x0)"
   ]
  },
  {
   "cell_type": "code",
   "execution_count": 16,
   "metadata": {
    "collapsed": false
   },
   "outputs": [
    {
     "data": {
      "text/plain": [
       "H (generic function with 1 method)"
      ]
     },
     "execution_count": 16,
     "metadata": {},
     "output_type": "execute_result"
    }
   ],
   "source": [
    "H(x) = ForwardDiff.hessian(f, x)"
   ]
  },
  {
   "cell_type": "code",
   "execution_count": 17,
   "metadata": {
    "collapsed": false
   },
   "outputs": [
    {
     "data": {
      "text/plain": [
       "2x2 Array{Float64,2}:\n",
       " 1290.0  480.0\n",
       "  480.0  200.0"
      ]
     },
     "execution_count": 17,
     "metadata": {},
     "output_type": "execute_result"
    }
   ],
   "source": [
    "H(x0)"
   ]
  },
  {
   "cell_type": "code",
   "execution_count": 48,
   "metadata": {
    "collapsed": false
   },
   "outputs": [
    {
     "data": {
      "text/plain": [
       "newton_method (generic function with 2 methods)"
      ]
     },
     "execution_count": 48,
     "metadata": {},
     "output_type": "execute_result"
    }
   ],
   "source": [
    "function newton_method(f, x0; tol = 1e-5, max_iter = 1000, max_time = 60)\n",
    "    exit_flag = 0\n",
    "    ∇f(x) = ForwardDiff.gradient(f, x)\n",
    "    H(x) = ForwardDiff.hessian(f, x)\n",
    "    \n",
    "    x = copy(x0) # Cópia de x0\n",
    "    iter = 0\n",
    "    start_time = time()\n",
    "    elapsed_time = 0.0\n",
    "    fx = f(x)\n",
    "    ∇fx = ∇f(x)\n",
    "    B = H(x)\n",
    "    while norm(∇fx) > tol\n",
    "        d = -B\\∇fx\n",
    "        ∇fx_dot_d = dot(∇fx, d)\n",
    "        if ∇fx_dot_d > -1e-6 * norm(∇fx) * norm(d)\n",
    "            d = -∇fx\n",
    "            ∇fx_dot_d = dot(∇fx, d)\n",
    "        elseif norm(d) < 1e-6 * norm(∇fx)\n",
    "            d = -∇fx\n",
    "            ∇fx_dot_d = dot(∇fx, d)\n",
    "        end\n",
    "        t = 1.0\n",
    "        while f(x + t*d) > fx + 0.5*t*∇fx_dot_d\n",
    "            t = t*0.9\n",
    "        end\n",
    "        x = x + t*d\n",
    "        fx = f(x)\n",
    "        ∇fx = ∇f(x)\n",
    "        B = H(x)\n",
    "        iter = iter + 1\n",
    "        if iter >= max_iter\n",
    "            exit_flag = 1\n",
    "            break\n",
    "        end\n",
    "        elapsed_time = time() - start_time\n",
    "        if elapsed_time >= max_time\n",
    "            exit_flag = 2\n",
    "            break\n",
    "        end\n",
    "    end\n",
    "    return x, fx, ∇fx, exit_flag, iter, elapsed_time # Precisamos retornar o ponto encontrado\n",
    "end"
   ]
  },
  {
   "cell_type": "code",
   "execution_count": 19,
   "metadata": {
    "collapsed": false
   },
   "outputs": [
    {
     "data": {
      "text/plain": [
       "gradient_method (generic function with 2 methods)"
      ]
     },
     "execution_count": 19,
     "metadata": {},
     "output_type": "execute_result"
    }
   ],
   "source": [
    "function gradient_method(f, x0; tol = 1e-5, max_iter = 1000, max_time = 60)\n",
    "    exit_flag = 0\n",
    "    ∇f(x) = ForwardDiff.gradient(f, x)\n",
    "    \n",
    "    x = copy(x0) # Cópia de x0\n",
    "    iter = 0\n",
    "    start_time = time()\n",
    "    elapsed_time = 0.0\n",
    "    fx = f(x)\n",
    "    ∇fx = ∇f(x)\n",
    "    while norm(∇fx) > tol\n",
    "        d = -∇fx\n",
    "        ∇fx_dot_d = dot(∇fx, d)\n",
    "        t = 1.0\n",
    "        while f(x + t*d) > fx + 0.5*t*∇fx_dot_d\n",
    "            t = t*0.9\n",
    "        end\n",
    "        x = x + t*d\n",
    "        fx = f(x)\n",
    "        ∇fx = ∇f(x)\n",
    "        iter = iter + 1\n",
    "        if iter >= max_iter\n",
    "            exit_flag = 1\n",
    "            break\n",
    "        end\n",
    "        elapsed_time = time() - start_time\n",
    "        if elapsed_time >= max_time\n",
    "            exit_flag = 2\n",
    "            break\n",
    "        end\n",
    "    end\n",
    "    return x, fx, ∇fx, exit_flag, iter, elapsed_time # Precisamos retornar o ponto encontrado\n",
    "end"
   ]
  },
  {
   "cell_type": "code",
   "execution_count": 49,
   "metadata": {
    "collapsed": false
   },
   "outputs": [
    {
     "name": "stdout",
     "output_type": "stream",
     "text": [
      "exit_flag = 1\n",
      "iter = 1000\n",
      "el_time = 0.010305166244506836\n",
      "exit_flag = 0\n",
      "iter = 21\n",
      "el_time = 0.0001590251922607422\n"
     ]
    },
    {
     "data": {
      "text/plain": [
       "2-element Array{Float64,1}:\n",
       " 1.0\n",
       " 1.0"
      ]
     },
     "execution_count": 49,
     "metadata": {},
     "output_type": "execute_result"
    }
   ],
   "source": [
    "f(x) = (x[1] - 1)^2 + 100*(x[2] - x[1]^2)^2 # Rosenbrock\n",
    "x0 = [-1.2; 1.1]\n",
    "\n",
    "x, fx, ∇fx, exit_flag, iter, el_time = gradient_method(f, x0);\n",
    "x, fx, ∇fx, exit_flag, iter, el_time = gradient_method(f, x0);\n",
    "println(\"exit_flag = $exit_flag\")\n",
    "println(\"iter = $iter\")\n",
    "println(\"el_time = $el_time\")\n",
    "\n",
    "x, fx, ∇fx, exit_flag, iter, el_time = newton_method(f, x0);\n",
    "x, fx, ∇fx, exit_flag, iter, el_time = newton_method(f, x0); # Rodando duas vezes\n",
    "println(\"exit_flag = $exit_flag\")\n",
    "println(\"iter = $iter\")\n",
    "println(\"el_time = $el_time\")\n",
    "x"
   ]
  },
  {
   "cell_type": "code",
   "execution_count": 23,
   "metadata": {
    "collapsed": false
   },
   "outputs": [
    {
     "data": {
      "text/plain": [
       "eh_def_pos (generic function with 1 method)"
      ]
     },
     "execution_count": 23,
     "metadata": {},
     "output_type": "execute_result"
    }
   ],
   "source": [
    "function eh_def_pos(A)\n",
    "    return all(eig(A)[1] .> 0)\n",
    "end"
   ]
  },
  {
   "cell_type": "code",
   "execution_count": 53,
   "metadata": {
    "collapsed": false
   },
   "outputs": [
    {
     "data": {
      "text/plain": [
       "false"
      ]
     },
     "execution_count": 53,
     "metadata": {},
     "output_type": "execute_result"
    }
   ],
   "source": [
    "x0 = rand(2)\n",
    "eh_def_pos(H(x0))"
   ]
  },
  {
   "cell_type": "code",
   "execution_count": 27,
   "metadata": {
    "collapsed": false
   },
   "outputs": [
    {
     "data": {
      "text/plain": [
       "2-element Array{Float64,1}:\n",
       " 0.0960576\n",
       " 0.677739 "
      ]
     },
     "execution_count": 27,
     "metadata": {},
     "output_type": "execute_result"
    }
   ],
   "source": [
    "x0"
   ]
  },
  {
   "cell_type": "code",
   "execution_count": 54,
   "metadata": {
    "collapsed": false
   },
   "outputs": [
    {
     "name": "stdout",
     "output_type": "stream",
     "text": [
      "exit_flag = 1\n",
      "iter = 1000\n",
      "el_time = 0.019587039947509766\n",
      "exit_flag = 0\n",
      "iter = 15\n",
      "el_time = 0.00015807151794433594\n"
     ]
    },
    {
     "data": {
      "text/plain": [
       "2-element Array{Float64,1}:\n",
       " 1.0\n",
       " 1.0"
      ]
     },
     "execution_count": 54,
     "metadata": {},
     "output_type": "execute_result"
    }
   ],
   "source": [
    "f(x) = (x[1] - 1)^2 + 100*(x[2] - x[1]^2)^2 # Rosenbrock\n",
    "\n",
    "x, fx, ∇fx, exit_flag, iter, el_time = gradient_method(f, x0);\n",
    "x, fx, ∇fx, exit_flag, iter, el_time = gradient_method(f, x0);\n",
    "println(\"exit_flag = $exit_flag\")\n",
    "println(\"iter = $iter\")\n",
    "println(\"el_time = $el_time\")\n",
    "\n",
    "x, fx, ∇fx, exit_flag, iter, el_time = newton_method(f, x0);\n",
    "x, fx, ∇fx, exit_flag, iter, el_time = newton_method(f, x0); # Rodando duas vezes\n",
    "println(\"exit_flag = $exit_flag\")\n",
    "println(\"iter = $iter\")\n",
    "println(\"el_time = $el_time\")\n",
    "x"
   ]
  },
  {
   "cell_type": "code",
   "execution_count": null,
   "metadata": {
    "collapsed": true
   },
   "outputs": [],
   "source": []
  }
 ],
 "metadata": {
  "kernelspec": {
   "display_name": "Julia 0.4.6",
   "language": "julia",
   "name": "julia-0.4"
  },
  "language_info": {
   "file_extension": ".jl",
   "mimetype": "application/julia",
   "name": "julia",
   "version": "0.4.6"
  }
 },
 "nbformat": 4,
 "nbformat_minor": 0
}
