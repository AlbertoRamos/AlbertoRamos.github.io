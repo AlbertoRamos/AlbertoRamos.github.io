{
 "cells": [
  {
   "cell_type": "code",
   "execution_count": 1,
   "metadata": {
    "collapsed": false
   },
   "outputs": [
    {
     "name": "stderr",
     "output_type": "stream",
     "text": [
      "INFO: Nothing to be done\n",
      "WARNING: julia is fixed at 0.4.6 conflicting with requirement for Plots: [0.5.0-,∞)\n",
      "INFO: No packages to install, update or remove\n",
      "INFO: Package database updated\n"
     ]
    }
   ],
   "source": [
    "Pkg.add(\"ForwardDiff\")\n",
    "Pkg.add(\"FactCheck\")"
   ]
  },
  {
   "cell_type": "code",
   "execution_count": 1,
   "metadata": {
    "collapsed": false
   },
   "outputs": [
    {
     "name": "stderr",
     "output_type": "stream",
     "text": [
      "INFO: Recompiling stale cache file /home/lamind-admin/.julia/lib/v0.4/ForwardDiff.ji for module ForwardDiff.\n",
      "INFO: Recompiling stale cache file /home/lamind-admin/.julia/lib/v0.4/Calculus.ji for module Calculus.\n"
     ]
    },
    {
     "ename": "LoadError",
     "evalue": "LoadError: ArgumentError: FactCheck not found in path\nwhile loading In[1], in expression starting on line 1",
     "output_type": "error",
     "traceback": [
      "LoadError: ArgumentError: FactCheck not found in path\nwhile loading In[1], in expression starting on line 1",
      "",
      " in require at ./loading.jl:249"
     ]
    }
   ],
   "source": [
    "using ForwardDiff, FactCheck"
   ]
  },
  {
   "cell_type": "code",
   "execution_count": 2,
   "metadata": {
    "collapsed": true
   },
   "outputs": [],
   "source": [
    "using ForwardDiff, Base.Test"
   ]
  },
  {
   "cell_type": "markdown",
   "metadata": {},
   "source": [
    "# Programação defensiva - Test Driven Development"
   ]
  },
  {
   "cell_type": "markdown",
   "metadata": {},
   "source": [
    "- Testes a priori"
   ]
  },
  {
   "cell_type": "code",
   "execution_count": 6,
   "metadata": {
    "collapsed": false
   },
   "outputs": [
    {
     "name": "stdout",
     "output_type": "stream",
     "text": [
      "Testes de Brincadeira\n",
      "1 fact verified.\n"
     ]
    },
    {
     "data": {
      "text/plain": [
       "delayed_handler (generic function with 4 methods)"
      ]
     },
     "execution_count": 6,
     "metadata": {},
     "output_type": "execute_result"
    }
   ],
   "source": [
    "facts(\"Testes de Brincadeira\") do\n",
    "    @fact 1 --> greater_than(0)\n",
    "end"
   ]
  },
  {
   "cell_type": "code",
   "execution_count": 8,
   "metadata": {
    "collapsed": false
   },
   "outputs": [
    {
     "name": "stdout",
     "output_type": "stream",
     "text": [
      "  > Testes parecidos\n",
      "Testes específicos\n",
      "1 fact verified.\n",
      "Outros testes\n",
      "    Failure :: (line:-1) :: Testes parecidos :: fact was false\n",
      "      Expression: factorial(3) --> 7\n",
      "        Expected: 7\n",
      "        Occurred: 6\n",
      "Out of 1 total fact:\n",
      "  Failed:   1\n"
     ]
    },
    {
     "data": {
      "text/plain": [
       "delayed_handler (generic function with 4 methods)"
      ]
     },
     "execution_count": 8,
     "metadata": {},
     "output_type": "execute_result"
    }
   ],
   "source": [
    "context(\"Testes parecidos\") do\n",
    "    facts(\"Testes específicos\") do\n",
    "        @fact factorial(4) --> 24\n",
    "    end\n",
    "    \n",
    "    facts(\"Outros testes\") do\n",
    "        @fact factorial(3) --> 7\n",
    "    end\n",
    "end"
   ]
  },
  {
   "cell_type": "code",
   "execution_count": 11,
   "metadata": {
    "collapsed": false
   },
   "outputs": [],
   "source": [
    "@test_approx_eq 1.0 0.99999999999999999"
   ]
  },
  {
   "cell_type": "markdown",
   "metadata": {},
   "source": [
    "## Exemplo falso\n",
    "\n",
    "Queremos encontrar uma função que calcula a raiz quadrada de um número $a$."
   ]
  },
  {
   "cell_type": "markdown",
   "metadata": {},
   "source": [
    "Objetivo: implementar\n",
    "\n",
    "    x = raiz(a)"
   ]
  },
  {
   "cell_type": "markdown",
   "metadata": {},
   "source": [
    "Testes sequenciais:\n",
    "- Raiz de 0\n",
    "- Raiz de 1\n",
    "- Raiz de 4\n",
    "- Raiz de quadrados perfeitos\n",
    "- Raiz de 2\n",
    "- Raiz de negativo\n",
    "- Raiz de 2 * k^2"
   ]
  },
  {
   "cell_type": "markdown",
   "metadata": {},
   "source": [
    "Fazer em arquivos:\n",
    "- teste_raiz.jl\n",
    "- raiz.jl"
   ]
  },
  {
   "cell_type": "code",
   "execution_count": 26,
   "metadata": {
    "collapsed": false
   },
   "outputs": [
    {
     "data": {
      "text/markdown": [
       "```\n",
       "@test_throws(extype, ex)\n",
       "```\n",
       "\n",
       "Test that the expression `ex` throws an exception of type `extype` and calls the current handler to handle the result.\n"
      ],
      "text/plain": [
       "```\n",
       "@test_throws(extype, ex)\n",
       "```\n",
       "\n",
       "Test that the expression `ex` throws an exception of type `extype` and calls the current handler to handle the result.\n"
      ]
     },
     "execution_count": 26,
     "metadata": {},
     "output_type": "execute_result"
    }
   ],
   "source": [
    "?@test_throws"
   ]
  },
  {
   "cell_type": "markdown",
   "metadata": {},
   "source": [
    "## TDD em algoritmos matemáticos"
   ]
  },
  {
   "cell_type": "markdown",
   "metadata": {},
   "source": [
    "e.g. Newton para raiz de funções\n",
    "\n",
    "Decisão a priori:\n",
    "\n",
    "    x, ef, fx, fdx, iter, el_time = newton(f, x0; tol_f=1e-6,\n",
    "        tol_x=1e-3, maxiter=1000, maxtime=60)\n",
    "\n",
    "Saída:\n",
    "- x é a solução\n",
    "- ef é o sinal de saída (exitflag): 0 - funcionou\n",
    "    outros valores: falhas\n",
    "- fx = f(x)\n",
    "- fdx = f'(x)\n",
    "- iter é o número de iterações\n",
    "- el_time é o tempo decorrido (elapsed time)\n",
    "\n",
    "Entrada:\n",
    "- f: a função\n",
    "- x0: ponto inicial\n",
    "- tol\\_f: tolerância da derivada: |f(x)| < tol_f\n",
    "- tol\\_x: tolerância do tamanho do passo: |x_{k+1}-x_k| < tol_x\n",
    "- maxiter: máximo de iterações\n",
    "- maxtime: máximo de tempo decorrido"
   ]
  },
  {
   "cell_type": "code",
   "execution_count": 12,
   "metadata": {
    "collapsed": false
   },
   "outputs": [
    {
     "name": "stdout",
     "output_type": "stream",
     "text": [
      "  > Exemplos básicos\n",
      "f(x) = x^2\n",
      "6 facts verified.\n"
     ]
    },
    {
     "data": {
      "text/plain": [
       "delayed_handler (generic function with 4 methods)"
      ]
     },
     "execution_count": 12,
     "metadata": {},
     "output_type": "execute_result"
    }
   ],
   "source": [
    "context(\"Exemplos básicos\") do\n",
    "    facts(\"f(x) = x^2\") do\n",
    "        f(x) = x^2\n",
    "        x, ef, fx, fdx, iter, el_time = newton(f, 1.0)\n",
    "        @fact x --> 0.0\n",
    "        @fact ef --> 0\n",
    "        @fact fx --> 0.0\n",
    "        @fact fdx --> 0.0\n",
    "        @fact iter --> less_than(1000)\n",
    "        @fact el_time --> less_than(60)\n",
    "    end\n",
    "end"
   ]
  },
  {
   "cell_type": "code",
   "execution_count": 32,
   "metadata": {
    "collapsed": false
   },
   "outputs": [
    {
     "ename": "LoadError",
     "evalue": "LoadError: assertion failed: |fx - 1.0| <= 2.220446049250313e-12\n  fx = 0.0\n  1.0 = 1.0\n  difference = 1.0 > 2.220446049250313e-12\nwhile loading In[32], in expression starting on line 14",
     "output_type": "error",
     "traceback": [
      "LoadError: assertion failed: |fx - 1.0| <= 2.220446049250313e-12\n  fx = 0.0\n  1.0 = 1.0\n  difference = 1.0 > 2.220446049250313e-12\nwhile loading In[32], in expression starting on line 14",
      "",
      " in error at error.jl:22",
      " in test_approx_eq at test.jl:135",
      " in test_approx_eq at test.jl:145"
     ]
    }
   ],
   "source": [
    "f(x) = x^2\n",
    "x, ef, fx, fdx, iter, el_time = newton(f, 1.0)\n",
    "@test_approx_eq x 0.0\n",
    "@test ef == 0\n",
    "@test_approx_eq fx 0.0\n",
    "@test_approx_eq fdx 0.0\n",
    "@test iter < 1000\n",
    "@test el_time < 60\n",
    "\n",
    "f(x) = x^2 + 1.0\n",
    "x, ef, fx, fdx, iter, el_time = newton(f, 1.0)\n",
    "@test_approx_eq x 0.0\n",
    "@test ef == 0\n",
    "@test_approx_eq fx 1.0\n",
    "@test_approx_eq fdx 0.0\n",
    "@test iter < 1000\n",
    "@test el_time < 60\n",
    "\n"
   ]
  },
  {
   "cell_type": "code",
   "execution_count": 39,
   "metadata": {
    "collapsed": false
   },
   "outputs": [
    {
     "data": {
      "text/plain": [
       "newton (generic function with 1 method)"
      ]
     },
     "execution_count": 39,
     "metadata": {},
     "output_type": "execute_result"
    }
   ],
   "source": [
    "function newton(f, x; tol_f = 1e-6, tol_x = 1e-3)\n",
    "    g(x) = ForwardDiff.derivative(f, x)\n",
    "    d = -f(x)/g(x)\n",
    "    iter = 0\n",
    "    el_time = 0.0\n",
    "    while abs(f(x)) > tol_f || abs(d) > tol_x\n",
    "        x = x + d\n",
    "        d = -f(x)/g(x)\n",
    "    end\n",
    "    return x, ef, f(x), g(x), iter, el_time\n",
    "end"
   ]
  },
  {
   "cell_type": "code",
   "execution_count": 42,
   "metadata": {
    "collapsed": false
   },
   "outputs": [
    {
     "data": {
      "text/plain": [
       "(0.0005261967123839608,0,2.768829673463177e-7,0.0010523933276379003,0,0.0)"
      ]
     },
     "execution_count": 42,
     "metadata": {},
     "output_type": "execute_result"
    }
   ],
   "source": [
    "newton(x->atan(x*sin(x)), 1)"
   ]
  },
  {
   "cell_type": "markdown",
   "metadata": {},
   "source": [
    "## Testes de funcionamento\n",
    "\n",
    "Essencialmente duas coisas\n",
    "- Não quebre\n",
    "    - Domínio das funções (raiz de negativo, divisão por zero)\n",
    "    - Teorias de convergência (específico do método)\n",
    "    - Escala\n",
    "- Não faça loop infinito\n",
    "    - Máximo de iterações, avaliações de função, tempo, etc.\n",
    "    - Condições passíveis de falha"
   ]
  },
  {
   "cell_type": "code",
   "execution_count": 15,
   "metadata": {
    "collapsed": false
   },
   "outputs": [
    {
     "name": "stdout",
     "output_type": "stream",
     "text": [
      "  > Não quebre\n",
      "f'(x) = 0\n",
      "6 facts verified.\n",
      "Escala\n",
      "    Failure :: (line:-1) :: Não quebre :: fact was false\n",
      "      Expression: x --> 2.0\n",
      "        Expected: 2.0\n",
      "        Occurred: 0.0\n",
      "    Failure :: (line:-1) :: Não quebre :: fact was false\n",
      "      Expression: x --> 2.0\n",
      "        Expected: 2.0\n",
      "        Occurred: 0.0\n",
      "Out of 4 total facts:\n",
      "  Verified: 2\n",
      "  Failed:   2\n",
      "Longe da solução\n",
      "    Failure :: (line:-1) :: Não quebre :: fact was false\n",
      "      Expression: abs(x) --> greater_than(1.0e6)\n",
      "        Expected: 0.0 > 1.0e6\n",
      "    Failure :: (line:-1) :: Não quebre :: fact was false\n",
      "      Expression: ef --> not(0)\n",
      "        Expected: 0 --> not(0)\n",
      "Out of 2 total facts:\n",
      "  Failed:   2\n",
      "  > Sem loop infinito\n",
      "Iterações\n"
     ]
    },
    {
     "ename": "LoadError",
     "evalue": "LoadError: ArgumentError: function newton does not accept keyword arguments\nwhile loading In[15], in expression starting on line 30",
     "output_type": "error",
     "traceback": [
      "LoadError: ArgumentError: function newton does not accept keyword arguments\nwhile loading In[15], in expression starting on line 30",
      "",
      " in anonymous at In[15]:34",
      " in facts at /home/abel/.julia/v0.4/FactCheck/src/FactCheck.jl:449",
      " in anonymous at In[15]:33",
      " in context at /home/abel/.julia/v0.4/FactCheck/src/FactCheck.jl:475"
     ]
    }
   ],
   "source": [
    "context(\"Não quebre\") do\n",
    "    facts(\"f'(x) = 0\") do\n",
    "        f(x) = x^2 - 1\n",
    "        x0 = 0.0\n",
    "        x, ef, fx, fdx, iter, el_time = newton(f, x0)\n",
    "        @fact x --> 0.0\n",
    "        @fact ef --> 0\n",
    "        @fact fx --> 0.0\n",
    "        @fact fdx --> 0.0\n",
    "        @fact iter --> less_than(1000)\n",
    "        @fact el_time --> less_than(60)\n",
    "    end\n",
    "    facts(\"Escala\") do\n",
    "        for p = [1e8; 1e-8]\n",
    "            f(x) = p * (x^2 - 4)\n",
    "            x, ef, fx, fdx, iter, el_time = newton(f, x0)\n",
    "            @fact x --> 2.0\n",
    "            @fact ef --> 0\n",
    "        end\n",
    "    end\n",
    "    facts(\"Longe da solução\") do\n",
    "        f(x) = x^2/(1+x^2)\n",
    "        x0 = 2.0\n",
    "        x, ef, fx, fdx, iter, el_time = newton(f, x0)\n",
    "        @fact abs(x) --> greater_than(1e6)\n",
    "        @fact ef --> not(0)\n",
    "    end\n",
    "end\n",
    "\n",
    "context(\"Sem loop infinito\") do\n",
    "    f(x) = x^4\n",
    "    x0 = 1.0\n",
    "    facts(\"Iterações\") do\n",
    "        x, ef, fx, fdx, iter, el_time = newton(f, x0, maxiter=1)\n",
    "        @fact ef --> not(0)\n",
    "        @fact iter --> 1\n",
    "    end\n",
    "    \n",
    "    facts(\"Tempo\") do\n",
    "        x, ef, fx, fdx, iter, el_time = newton(f, x0, maxtime=0.0)\n",
    "        @fact ef --> not(0)\n",
    "    end\n",
    "end"
   ]
  },
  {
   "cell_type": "code",
   "execution_count": null,
   "metadata": {
    "collapsed": true
   },
   "outputs": [],
   "source": []
  }
 ],
 "metadata": {
  "kernelspec": {
   "display_name": "Julia 0.4.6",
   "language": "julia",
   "name": "julia-0.4"
  },
  "language_info": {
   "file_extension": ".jl",
   "mimetype": "application/julia",
   "name": "julia",
   "version": "0.4.6"
  }
 },
 "nbformat": 4,
 "nbformat_minor": 0
}
