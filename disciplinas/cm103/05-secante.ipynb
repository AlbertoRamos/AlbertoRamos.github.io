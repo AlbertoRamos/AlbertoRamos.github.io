{
 "cells": [
  {
   "cell_type": "code",
   "execution_count": 3,
   "metadata": {
    "collapsed": true
   },
   "outputs": [],
   "source": [
    "using FactCheck, ForwardDiff, Plots"
   ]
  },
  {
   "cell_type": "code",
   "execution_count": 4,
   "metadata": {
    "collapsed": false
   },
   "outputs": [
    {
     "data": {
      "text/plain": [
       "newton (generic function with 1 method)"
      ]
     },
     "execution_count": 4,
     "metadata": {},
     "output_type": "execute_result"
    }
   ],
   "source": [
    "function newton(f, x; tol_f = 1e-6, tol_x = 1e-3,\n",
    "        maxiter = 1000, maxtime = 60)\n",
    "    tol_g = tol_f^2\n",
    "    g(x) = ForwardDiff.derivative(f, x)\n",
    "    escala = max( abs(g(x)), abs(f(x)) )\n",
    "    if abs(g(x)) < tol_g * escala\n",
    "        return x, -1, f(x), g(x), 0, 0.0\n",
    "    end\n",
    "    d = -f(x)/g(x)\n",
    "    iter = 0\n",
    "    ef = 0\n",
    "    start_time = time()\n",
    "    el_time = 0.0\n",
    "    while abs(f(x)) > tol_f || abs(d) > tol_x\n",
    "        x = x + d\n",
    "        if abs(g(x)) < tol_g * escala\n",
    "            ef = -1\n",
    "            break\n",
    "        end\n",
    "        d = -f(x)/g(x)\n",
    "        iter += 1\n",
    "        el_time = time() - start_time\n",
    "        if iter >= maxiter\n",
    "            ef = 1\n",
    "            break\n",
    "        end\n",
    "        if el_time >= maxtime\n",
    "            ef = 2\n",
    "            break\n",
    "        end\n",
    "    end\n",
    "    return x, ef, f(x), g(x), iter, el_time\n",
    "end"
   ]
  },
  {
   "cell_type": "code",
   "execution_count": 5,
   "metadata": {
    "collapsed": false
   },
   "outputs": [
    {
     "name": "stdout",
     "output_type": "stream",
     "text": [
      "  > Exemplos básicos\n",
      "f(x) = x^2 - 1\n",
      "5 facts verified.\n",
      "f(x) = x^2\n",
      "6 facts verified.\n",
      "  > Não quebre\n",
      "f'(x) = 0\n",
      "1 fact verified.\n",
      "Escala\n",
      "6 facts verified.\n",
      "Longe da solução\n",
      "2 facts verified.\n",
      "  > Sem loop infinito\n",
      "Iterações\n",
      "2 facts verified.\n",
      "Tempo\n",
      "2 facts verified.\n"
     ]
    },
    {
     "data": {
      "text/plain": [
       "delayed_handler (generic function with 4 methods)"
      ]
     },
     "execution_count": 5,
     "metadata": {},
     "output_type": "execute_result"
    }
   ],
   "source": [
    "context(\"Exemplos básicos\") do\n",
    "    facts(\"f(x) = x^2 - 1\") do\n",
    "        f(x) = x^2-1\n",
    "        x, ef, fx, fdx, iter, el_time = newton(f, 1.0)\n",
    "        @fact x --> roughly(1.0, 1e-6)\n",
    "        @fact ef --> 0\n",
    "        @fact fx --> roughly(0.0, 1e-6)\n",
    "        @fact iter --> less_than(1000)\n",
    "        @fact el_time --> less_than(60)\n",
    "    end\n",
    "    \n",
    "    facts(\"f(x) = x^2\") do\n",
    "        f(x) = x^2\n",
    "        x, ef, fx, fdx, iter, el_time = newton(f, 1.0)\n",
    "        @fact x --> roughly(0.0, 1e-3)\n",
    "        @fact ef --> 0\n",
    "        @fact fx --> roughly(0.0, 1e-6)\n",
    "        @fact fdx --> roughly(0.0, 2e-3)\n",
    "        @fact iter --> less_than(1000)\n",
    "        @fact el_time --> less_than(60)\n",
    "    end\n",
    "end\n",
    "\n",
    "context(\"Não quebre\") do\n",
    "    facts(\"f'(x) = 0\") do\n",
    "        f(x) = x^2 - 1\n",
    "        x0 = 0.0\n",
    "        x, ef, fx, fdx, iter, el_time = newton(f, x0)\n",
    "        @fact ef --> -1 # -1 -> derivada zero\n",
    "    end\n",
    "    facts(\"Escala\") do\n",
    "        for p = [1e8; 1e-8]\n",
    "            f(x) = p * (x^2 - 4)\n",
    "            x, ef, fx, fdx, iter, el_time = newton(f, 1)\n",
    "            @fact x --> roughly(2.0, 1e-3)\n",
    "            @fact fx --> roughly(0.0, 1e-6)\n",
    "            @fact ef --> 0\n",
    "        end\n",
    "    end\n",
    "    facts(\"Longe da solução\") do\n",
    "        f(x) = x^2/(1+x^2)\n",
    "        x0 = 2.0\n",
    "        x, ef, fx, fdx, iter, el_time = newton(f, x0)\n",
    "        @fact abs(x) --> greater_than(100)\n",
    "        @fact ef --> not(0)\n",
    "    end\n",
    "end\n",
    "\n",
    "context(\"Sem loop infinito\") do\n",
    "    f(x) = x^4\n",
    "    x0 = 1.0\n",
    "    facts(\"Iterações\") do\n",
    "        x, ef, fx, fdx, iter, el_time = newton(f, x0, maxiter=1)\n",
    "        @fact ef --> not(0)\n",
    "        @fact iter --> 1\n",
    "    end\n",
    "    \n",
    "    facts(\"Tempo\") do\n",
    "        x, ef, fx, fdx, iter, el_time = newton(f, x0, maxtime=0.0)\n",
    "        @fact ef --> not(0)\n",
    "        @fact el_time --> greater_than(0.0)\n",
    "    end\n",
    "end"
   ]
  },
  {
   "cell_type": "code",
   "execution_count": 8,
   "metadata": {
    "collapsed": false
   },
   "outputs": [
    {
     "data": {
      "text/plain": [
       "secante (generic function with 1 method)"
      ]
     },
     "execution_count": 8,
     "metadata": {},
     "output_type": "execute_result"
    }
   ],
   "source": [
    "function secante(f, x; tol_f = 1e-6, tol_x = 1e-3,\n",
    "        maxiter = 1000, maxtime = 60)\n",
    "    d = 1\n",
    "    iter = 0\n",
    "    ef = 0\n",
    "    start_time = time()\n",
    "    el_time = 0.0\n",
    "    while abs(f(x)) > tol_f || abs(d) > tol_x\n",
    "        x1 = x + d\n",
    "        m = (f(x1) - f(x))/(x1 - x)\n",
    "        d = -f(x1)/m\n",
    "        x = x1\n",
    "        iter += 1\n",
    "        el_time = time() - start_time\n",
    "        if iter >= maxiter\n",
    "            ef = 1\n",
    "            break\n",
    "        end\n",
    "        if el_time >= maxtime\n",
    "            ef = 2\n",
    "            break\n",
    "        end\n",
    "    end\n",
    "    return x, ef, f(x), iter, el_time\n",
    "end"
   ]
  },
  {
   "cell_type": "code",
   "execution_count": 9,
   "metadata": {
    "collapsed": false
   },
   "outputs": [
    {
     "data": {
      "text/plain": [
       "(1.4142135620573204,0,-8.931455575122982e-10,6,0.002933979034423828)"
      ]
     },
     "execution_count": 9,
     "metadata": {},
     "output_type": "execute_result"
    }
   ],
   "source": [
    "x, ef, fx, iter, el_time = secante(x->x^2 - 2, 1)"
   ]
  },
  {
   "cell_type": "code",
   "execution_count": 16,
   "metadata": {
    "collapsed": false
   },
   "outputs": [
    {
     "name": "stdout",
     "output_type": "stream",
     "text": [
      "  > Exemplos básicos\n",
      "f(x) = x^2 - 1\n",
      "5 facts verified.\n",
      "f(x) = x^2\n",
      "5 facts verified.\n",
      "  > Não quebre\n",
      "f'(x) = 0\n",
      "5 facts verified.\n",
      "Escala\n",
      "6 facts verified.\n",
      "  > Sem loop infinito\n",
      "Iterações\n",
      "2 facts verified.\n",
      "Tempo\n",
      "2 facts verified.\n"
     ]
    },
    {
     "data": {
      "text/plain": [
       "delayed_handler (generic function with 4 methods)"
      ]
     },
     "execution_count": 16,
     "metadata": {},
     "output_type": "execute_result"
    }
   ],
   "source": [
    "context(\"Exemplos básicos\") do\n",
    "    facts(\"f(x) = x^2 - 1\") do\n",
    "        f(x) = x^2-1\n",
    "        x, ef, fx, iter, el_time = secante(f, 1.0)\n",
    "        @fact x --> roughly(1.0, 1e-6)\n",
    "        @fact ef --> 0\n",
    "        @fact fx --> roughly(0.0, 1e-6)\n",
    "        @fact iter --> less_than(1000)\n",
    "        @fact el_time --> less_than(60)\n",
    "    end\n",
    "    \n",
    "    facts(\"f(x) = x^2\") do\n",
    "        f(x) = x^2\n",
    "        x, ef, fx, iter, el_time = secante(f, 1.0)\n",
    "        @fact x --> roughly(0.0, 1e-3)\n",
    "        @fact ef --> 0\n",
    "        @fact fx --> roughly(0.0, 1e-6)\n",
    "        @fact iter --> less_than(1000)\n",
    "        @fact el_time --> less_than(60)\n",
    "    end\n",
    "end\n",
    "\n",
    "context(\"Não quebre\") do\n",
    "    facts(\"f'(x) = 0\") do\n",
    "        f(x) = x^2 - 1\n",
    "        x0 = 0.0\n",
    "        x, ef, fx, iter, el_time = secante(f, x0)\n",
    "        @fact x --> roughly(1.0, 1e-6)\n",
    "        @fact ef --> 0\n",
    "        @fact fx --> roughly(0.0, 1e-6)\n",
    "        @fact iter --> less_than(1000)\n",
    "        @fact el_time --> less_than(60)    end\n",
    "    facts(\"Escala\") do\n",
    "        for p = [1e8; 1e-8]\n",
    "            f(x) = p * (x^2 - 4)\n",
    "            x, ef, fx, iter, el_time = secante(f, 1)\n",
    "            @fact x --> roughly(2.0, 1e-3)\n",
    "            @fact fx --> roughly(0.0, 1e-6)\n",
    "            @fact ef --> 0\n",
    "        end\n",
    "    end\n",
    "end\n",
    "\n",
    "context(\"Sem loop infinito\") do\n",
    "    f(x) = x^4\n",
    "    x0 = 1.0\n",
    "    facts(\"Iterações\") do\n",
    "        x, ef, fx, iter, el_time = secante(f, x0, maxiter=1)\n",
    "        @fact ef --> not(0)\n",
    "        @fact iter --> 1\n",
    "    end\n",
    "    \n",
    "    facts(\"Tempo\") do\n",
    "        x, ef, fx, iter, el_time = secante(f, x0, maxtime=0.0)\n",
    "        @fact ef --> not(0)\n",
    "        @fact el_time --> greater_than(0.0)\n",
    "    end\n",
    "end"
   ]
  },
  {
   "cell_type": "code",
   "execution_count": null,
   "metadata": {
    "collapsed": true
   },
   "outputs": [],
   "source": []
  }
 ],
 "metadata": {
  "kernelspec": {
   "display_name": "Julia 0.4.6",
   "language": "julia",
   "name": "julia-0.4"
  },
  "language_info": {
   "file_extension": ".jl",
   "mimetype": "application/julia",
   "name": "julia",
   "version": "0.4.6"
  }
 },
 "nbformat": 4,
 "nbformat_minor": 0
}
